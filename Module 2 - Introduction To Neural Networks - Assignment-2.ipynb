{
 "cells": [
  {
   "cell_type": "markdown",
   "id": "35c19795",
   "metadata": {},
   "source": [
    "# 1. Activation Functions:\n",
    "**● Define the sigmoid function, a popular activation function used in neural networks.**\n",
    "\n",
    "**● Define the tanh function, which is another common activation function that returns values between -1 and 1.**\n",
    "\n",
    "**● Define the relu function, which returns positive values as they are and zeroes out negative values.**"
   ]
  },
  {
   "cell_type": "code",
   "execution_count": 1,
   "id": "6e4b4d6a",
   "metadata": {},
   "outputs": [],
   "source": [
    "## Define the sigmoid function, a popular activation function used in neural networks.\n",
    "\n",
    "import numpy as np\n",
    "\n",
    "def sigmoid(x):\n",
    "    return 1 / (1 + np.exp(-x))"
   ]
  },
  {
   "cell_type": "code",
   "execution_count": 2,
   "id": "603850a6",
   "metadata": {},
   "outputs": [],
   "source": [
    "## Define the tanh function, which is another common activation function that returns values between -1 and 1.\n",
    "\n",
    "def tanh(x):\n",
    "    return np.tanh(x)"
   ]
  },
  {
   "cell_type": "code",
   "execution_count": 3,
   "id": "0c53525e",
   "metadata": {},
   "outputs": [],
   "source": [
    "## Define the relu function, which returns positive values as they are and zeroes out negative values.\n",
    "\n",
    "def relu(x):\n",
    "    return np.maximum(0,x)"
   ]
  },
  {
   "cell_type": "markdown",
   "id": "c5c1bc5e",
   "metadata": {},
   "source": [
    "# 2. Sample Data:\n",
    "**● Use the following sample data for training:\n",
    "x1=3, x2=2, yactual=17**"
   ]
  },
  {
   "cell_type": "code",
   "execution_count": 4,
   "id": "a8e22dc8",
   "metadata": {},
   "outputs": [],
   "source": [
    "x1=3 \n",
    "x2=2 \n",
    "yactual=17"
   ]
  },
  {
   "cell_type": "markdown",
   "id": "a41cacbf",
   "metadata": {},
   "source": [
    "# 3. Feed Forward:\n",
    "**● Initialize the random weights w1 and w2 between 1 and 10.**\n",
    "\n",
    "**● Predict the output ypred using the equation ypred= x1 x w1 + x2 x w2**"
   ]
  },
  {
   "cell_type": "code",
   "execution_count": 5,
   "id": "344409cb",
   "metadata": {},
   "outputs": [],
   "source": [
    "## Initialize the random weights w1 and w2 between 1 and 10.\n",
    "\n",
    "np.random.seed(0)\n",
    "w1 = np.random.uniform(1, 10)\n",
    "w2 = np.random.uniform(1, 10)"
   ]
  },
  {
   "cell_type": "code",
   "execution_count": 6,
   "id": "5d3a0bff",
   "metadata": {},
   "outputs": [],
   "source": [
    "## Predict the output ypred using the equation ypred= x1 x w1 + x2 x w2\n",
    "\n",
    "ypred = x1 * w1 + x2 * w2"
   ]
  },
  {
   "cell_type": "markdown",
   "id": "9d04a2ff",
   "metadata": {},
   "source": [
    "# 4. Error Calculation:\n",
    "**● Compute the squared error as error = (yactual-ypred)*(yactual-ypred)**"
   ]
  },
  {
   "cell_type": "code",
   "execution_count": 7,
   "id": "17b93ab7",
   "metadata": {},
   "outputs": [],
   "source": [
    "## Compute the squared error as error = (yactual-ypred)*(yactual-ypred)\n",
    "\n",
    "error = (yactual-ypred)**2"
   ]
  },
  {
   "cell_type": "markdown",
   "id": "e7246410",
   "metadata": {},
   "source": [
    "# 5. Back Propagation:\n",
    "**● Compute the gradients of the error with respect to the weights.**\n",
    "\n",
    "**● Update the weights using the computed gradients and a learning rate.**"
   ]
  },
  {
   "cell_type": "code",
   "execution_count": 8,
   "id": "a715ff73",
   "metadata": {},
   "outputs": [],
   "source": [
    "## Compute the gradients of the error with respect to the weights.\n",
    "\n",
    "d_w1 = -2 * (yactual - ypred) * x1\n",
    "d_w2 = -2 * (yactual - ypred) * x2"
   ]
  },
  {
   "cell_type": "code",
   "execution_count": 9,
   "id": "1b3984b7",
   "metadata": {},
   "outputs": [],
   "source": [
    "## Update the weights using the computed gradients and a learning rate.\n",
    "\n",
    "learning_rate = 0.01\n",
    "\n",
    "w1 = w1 - learning_rate * d_w1\n",
    "w2 = w2 - learning_rate * d_w2"
   ]
  },
  {
   "cell_type": "markdown",
   "id": "40edc73d",
   "metadata": {},
   "source": [
    "# 6. Training:\n",
    "\n",
    "**● The above steps (Feed Forward to Back Propagation) are performed\n",
    "iteratively (20 times in this example) to refine the weights and minimize\n",
    "the error.**"
   ]
  },
  {
   "cell_type": "code",
   "execution_count": 10,
   "id": "36aa5f85",
   "metadata": {},
   "outputs": [
    {
     "name": "stdout",
     "output_type": "stream",
     "text": [
      "Epoch 1, Error: 134.82963004569862, ypred: 28.611616168548572\n",
      "Epoch 2, Error: 73.83270541302458, ypred: 25.592595964725945\n",
      "Epoch 3, Error: 40.43078948417222, ypred: 23.358521013897196\n",
      "Epoch 4, Error: 22.139900321532735, ypred: 21.705305550283928\n",
      "Epoch 5, Error: 12.12380941607133, ypred: 20.481926107210107\n",
      "Epoch 6, Error: 6.638998036240667, ypred: 19.57662531933548\n",
      "Epoch 7, Error: 3.635515324645385, ypred: 18.906702736308254\n",
      "Epoch 8, Error: 1.990808191775809, ypred: 18.410960024868107\n",
      "Epoch 9, Error: 1.0901665658164286, ypred: 18.044110418402397\n",
      "Epoch 10, Error: 0.5969752114410746, ypred: 17.772641709617773\n",
      "Epoch 11, Error: 0.3269036257851342, ypred: 17.571754865117153\n",
      "Epoch 12, Error: 0.1790124254799404, ypred: 17.423098600186695\n",
      "Epoch 13, Error: 0.09802720419281505, ypred: 17.313092964138153\n",
      "Epoch 14, Error: 0.053679697015985225, ypred: 17.231688793462233\n",
      "Epoch 15, Error: 0.029395002085954143, ypred: 17.171449707162054\n",
      "Epoch 16, Error: 0.01609670314226838, ypred: 17.12687278329992\n",
      "Epoch 17, Error: 0.008814554640706738, ypred: 17.093885859641944\n",
      "Epoch 18, Error: 0.004826850121250892, ypred: 17.069475536135037\n",
      "Epoch 19, Error: 0.0026431831263970616, ypred: 17.05141189673993\n",
      "Epoch 20, Error: 0.0014474070800149551, ypred: 17.038044803587546\n"
     ]
    }
   ],
   "source": [
    "errors = []\n",
    "ypreds = []\n",
    "\n",
    "for epoch in range(20):\n",
    "    # Feed forward Propogation\n",
    "    ypred = x1 * w1 + x2 * w2\n",
    "    \n",
    "    # Calculate error\n",
    "    error = (yactual - ypred) ** 2\n",
    "    errors.append(error)\n",
    "    ypreds.append(ypred)\n",
    "    \n",
    "    # Backpropagation: Update weights\n",
    "    d_w1 = -2 * (yactual - ypred) * x1\n",
    "    d_w2 = -2 * (yactual - ypred) * x2\n",
    "    \n",
    "    w1 = w1 - learning_rate * d_w1\n",
    "    w2 = w2 - learning_rate * d_w2\n",
    "\n",
    "    print(f'Epoch {epoch+1}, Error: {error}, ypred: {ypred}')"
   ]
  },
  {
   "cell_type": "markdown",
   "id": "946a5c5f",
   "metadata": {},
   "source": [
    "# 7. Visualization:\n",
    "**● Plot the progression of the error across epochs.**\n",
    "\n",
    "**● Plot the progression of ypred across epochs.**"
   ]
  },
  {
   "cell_type": "code",
   "execution_count": 11,
   "id": "546b0363",
   "metadata": {},
   "outputs": [
    {
     "data": {
      "image/png": "[encoded data removed]",
      "text/plain": [
       "<Figure size 1000x600 with 2 Axes>"
      ]
     },
     "metadata": {},
     "output_type": "display_data"
    }
   ],
   "source": [
    "import matplotlib.pyplot as plt\n",
    "\n",
    "## Plot the progression of the error across epochs.\n",
    "plt.figure(figsize = (10,6))\n",
    "plt.subplot(1,2,1)\n",
    "plt.plot(errors, label='Error', color='red')\n",
    "plt.title('EPOCHS Error')\n",
    "plt.xlabel('EPOCHS')\n",
    "plt.ylabel('Error')\n",
    "plt.legend()\n",
    "plt.grid(True)\n",
    "\n",
    "\n",
    "# Plot the progression of ypred across epochs.\n",
    "plt.subplot(1, 2, 2)\n",
    "plt.plot(ypreds, label=\"ypred\", color='green')\n",
    "plt.title(\"y_Predicted epochs\")\n",
    "plt.xlabel(\"Epoch\")\n",
    "plt.ylabel(\"ypred\")\n",
    "plt.legend()\n",
    "plt.grid(True)\n",
    "plt.tight_layout()\n",
    "plt.show()"
   ]
  },
  {
   "cell_type": "code",
   "execution_count": null,
   "id": "8fd91e58",
   "metadata": {},
   "outputs": [],
   "source": []
  }
 ],
 "metadata": {
  "kernelspec": {
   "display_name": "Python 3 (ipykernel)",
   "language": "python",
   "name": "python3"
  },
  "language_info": {
   "codemirror_mode": {
    "name": "ipython",
    "version": 3
   },
   "file_extension": ".py",
   "mimetype": "text/x-python",
   "name": "python",
   "nbconvert_exporter": "python",
   "pygments_lexer": "ipython3",
   "version": "3.11.5"
  }
 },
 "nbformat": 4,
 "nbformat_minor": 5
}
