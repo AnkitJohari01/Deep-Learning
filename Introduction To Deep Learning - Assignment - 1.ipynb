{
 "cells": [
  {
   "cell_type": "markdown",
   "id": "2a513603",
   "metadata": {},
   "source": [
    "# **1. Which industries commonly use Deep Learning for image recognition applications?**\n",
    "\n",
    "- a. Healthcare\n",
    "- b. Manufacturing\n",
    "- c. Retail\n",
    "- d. All of the above\n",
    "\n",
    "**ANS = d. All of the above**"
   ]
  },
  {
   "cell_type": "markdown",
   "id": "58749584",
   "metadata": {},
   "source": [
    "# **2. What distinguishes Deep Learning from traditional Machine Learning?**\n",
    "\n",
    "a. Depth of Neural Networks\n",
    "\n",
    "b. Type of Algorithms used\n",
    "\n",
    "c. Machine Learning is an evolution of Deep Learning\n",
    "\n",
    "d. Volume of data processed\n",
    "\n",
    "\n",
    "- i. a,d\n",
    "- a,b,c,d\n",
    "- ii. a,c,d\n",
    "- v. a,b\n",
    "\n",
    "\n",
    "**ANS = i. a,d**"
   ]
  },
  {
   "cell_type": "markdown",
   "id": "52403db8",
   "metadata": {},
   "source": [
    "# **3. Which metrics are commonly used to evaluate the performance of a classification model?**\n",
    "- a. Mean squared error\n",
    "- b. Root mean squared error\n",
    "- c. F1 score\n",
    "- d. R-squared\n",
    "\n",
    "**ANS = c. F1 score**"
   ]
  },
  {
   "cell_type": "markdown",
   "id": "7be6d55c",
   "metadata": {},
   "source": [
    "# **4. Which of the following are the key components of Deep Learning (DL)?**\n",
    "- a. Decision Trees\n",
    "- b. Neural Networks\n",
    "- c. Support Vector Machines\n",
    "- d. K-Means Clustering\n",
    "\n",
    "**ANS = b. Neural Networks**"
   ]
  },
  {
   "cell_type": "markdown",
   "id": "68c3b3d3",
   "metadata": {},
   "source": [
    "# **5. What are the main challenges in training deep neural networks?**\n",
    "\n",
    "- a. Lack of labeled data\n",
    "- b. Overfitting\n",
    "- c. Underfitting\n",
    "- d. None of the above\n",
    "\n",
    "**ANS = b. Overfitting**"
   ]
  },
  {
   "cell_type": "markdown",
   "id": "89b58651",
   "metadata": {},
   "source": [
    "# 6. Which technology is a subset of AI and focuses on training models to learn from data?\n",
    "- a. Artificial Intelligence\n",
    "- b. Machine Learning\n",
    "- c. Deep Learning\n",
    "- d. Data Science\n",
    "\n",
    "**ANS = c. Deep Learning**"
   ]
  },
  {
   "cell_type": "markdown",
   "id": "2d1567f3",
   "metadata": {},
   "source": [
    "# 7. In the context of Deep Learning, what is a neural network?\n",
    "- a. A network of interconnected computers\n",
    "- b. A network of interconnected neurons\n",
    "- c. A network of interconnected databases\n",
    "- d. A network of interconnected algorithms\n",
    "\n",
    "**ANS = b. A network of interconnected neurons**"
   ]
  },
  {
   "cell_type": "markdown",
   "id": "2bee71ea",
   "metadata": {},
   "source": [
    "# 8. What is the role of hyperparameter tuning in the model evaluation phase?\n",
    "- a. To adjust the learning rate\n",
    "- b. To optimize model parameters for better performance\n",
    "- c. To select features\n",
    "- d. To preprocess the data\n",
    "\n",
    "**ANS = b. To optimize model parameters for better performance**"
   ]
  },
  {
   "cell_type": "markdown",
   "id": "2415cedf",
   "metadata": {},
   "source": [
    "# 9. What is the primary goal during the project initiation phase of a Deep Learning project?\n",
    "- a. Model training\n",
    "- b. Define the problem and scope\n",
    "- c. Hyperparameter tuning\n",
    "- d. Data collection\n",
    "\n",
    "**ANS = b. Define the problem and scope**"
   ]
  },
  {
   "cell_type": "markdown",
   "id": "b4a47fa5",
   "metadata": {},
   "source": [
    "# 10. Why is continuous monitoring important in the life cycle of a deployed Deep Learning model?\n",
    "- a. To retrain the model from scratch\n",
    "- b. To ensure the model adapts to changing data patterns\n",
    "- c. To deploy a new model version daily\n",
    "- d. To skip the model evaluation phase\n",
    "\n",
    "**ANS = b. To ensure the model adapts to changing data patterns**"
   ]
  }
 ],
 "metadata": {
  "kernelspec": {
   "display_name": "Python 3 (ipykernel)",
   "language": "python",
   "name": "python3"
  },
  "language_info": {
   "codemirror_mode": {
    "name": "ipython",
    "version": 3
   },
   "file_extension": ".py",
   "mimetype": "text/x-python",
   "name": "python",
   "nbconvert_exporter": "python",
   "pygments_lexer": "ipython3",
   "version": "3.11.5"
  }
 },
 "nbformat": 4,
 "nbformat_minor": 5
}
